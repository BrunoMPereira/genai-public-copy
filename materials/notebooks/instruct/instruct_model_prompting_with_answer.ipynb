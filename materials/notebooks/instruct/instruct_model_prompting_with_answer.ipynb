{
 "cells": [
  {
   "cell_type": "markdown",
   "metadata": {},
   "source": [
    "# Prompt-based Sentiment Classification\n",
    "\n",
    "This notebook demonstrates how to perform sentiment classification using a prompt-based approach with the finetuned instruct models. The workflow includes:\n",
    "- Loading a dataset using pandas.\n",
    "- Generating prompts (both zero-shot and few-shot) from stored Markdown files.\n",
    "- Sending prompts to an OLLAMA endpoint for text generation.\n",
    "- Parsing and displaying the responses.\n",
    "- Looping over a subset of the data to compare true sentiment labels with predicted classifications."
   ]
  },
  {
   "cell_type": "code",
   "execution_count": 420,
   "metadata": {},
   "outputs": [],
   "source": [
    "import pandas as pd\n",
    "pd.set_option('display.max_colwidth', None)"
   ]
  },
  {
   "cell_type": "markdown",
   "metadata": {},
   "source": [
    "### Loading the Training Dataset\n",
    "\n",
    "This cell reads the training dataset from a CSV file located at `../../data/train.csv` using the specified `ISO-8859-1` encoding.\n",
    "\n",
    "Data Source: https://www.kaggle.com/datasets/abhi8923shriv/sentiment-analysis-dataset?resource=download "
   ]
  },
  {
   "cell_type": "code",
   "execution_count": 421,
   "metadata": {},
   "outputs": [],
   "source": [
    "dataset= \"train_example.csv\""
   ]
  },
  {
   "cell_type": "code",
   "execution_count": 422,
   "metadata": {},
   "outputs": [],
   "source": [
    "train = pd.read_csv(f\"../../data/{dataset}\", encoding='ISO-8859-1')"
   ]
  },
  {
   "cell_type": "markdown",
   "metadata": {},
   "source": [
    "### Checking the Shape of the Dataset\n",
    "\n",
    "This cell outputs the shape of the training dataframe (number of rows and columns) to quickly verify the dataset's dimensions."
   ]
  },
  {
   "cell_type": "code",
   "execution_count": 423,
   "metadata": {},
   "outputs": [
    {
     "data": {
      "text/plain": [
       "(10, 6)"
      ]
     },
     "execution_count": 423,
     "metadata": {},
     "output_type": "execute_result"
    }
   ],
   "source": [
    "train.shape"
   ]
  },
  {
   "cell_type": "markdown",
   "metadata": {},
   "source": [
    "### Previewing the Data\n",
    "\n",
    "This cell displays the first rows of the training dataset. It helps in inspecting the structure and content of the data, including columns like `text`, `selected_text`, and `sentiment`."
   ]
  },
  {
   "cell_type": "code",
   "execution_count": 424,
   "metadata": {},
   "outputs": [
    {
     "data": {
      "text/html": [
       "<div>\n",
       "<style scoped>\n",
       "    .dataframe tbody tr th:only-of-type {\n",
       "        vertical-align: middle;\n",
       "    }\n",
       "\n",
       "    .dataframe tbody tr th {\n",
       "        vertical-align: top;\n",
       "    }\n",
       "\n",
       "    .dataframe thead th {\n",
       "        text-align: right;\n",
       "    }\n",
       "</style>\n",
       "<table border=\"1\" class=\"dataframe\">\n",
       "  <thead>\n",
       "    <tr style=\"text-align: right;\">\n",
       "      <th></th>\n",
       "      <th>Unnamed: 0.1</th>\n",
       "      <th>Unnamed: 0</th>\n",
       "      <th>textID</th>\n",
       "      <th>text</th>\n",
       "      <th>selected_text</th>\n",
       "      <th>sentiment</th>\n",
       "    </tr>\n",
       "  </thead>\n",
       "  <tbody>\n",
       "    <tr>\n",
       "      <th>0</th>\n",
       "      <td>0</td>\n",
       "      <td>0</td>\n",
       "      <td>cb774db0d1</td>\n",
       "      <td>I`d have responded, if I were going</td>\n",
       "      <td>I`d have responded, if I were going</td>\n",
       "      <td>neutral</td>\n",
       "    </tr>\n",
       "    <tr>\n",
       "      <th>1</th>\n",
       "      <td>1</td>\n",
       "      <td>1</td>\n",
       "      <td>549e992a42</td>\n",
       "      <td>Sooo SAD I will miss you here in San Diego!!!</td>\n",
       "      <td>Sooo SAD</td>\n",
       "      <td>negative</td>\n",
       "    </tr>\n",
       "    <tr>\n",
       "      <th>2</th>\n",
       "      <td>2</td>\n",
       "      <td>2</td>\n",
       "      <td>088c60f138</td>\n",
       "      <td>my boss is bullying me...</td>\n",
       "      <td>bullying me</td>\n",
       "      <td>negative</td>\n",
       "    </tr>\n",
       "    <tr>\n",
       "      <th>3</th>\n",
       "      <td>3</td>\n",
       "      <td>3</td>\n",
       "      <td>9642c003ef</td>\n",
       "      <td>what interview! leave me alone</td>\n",
       "      <td>leave me alone</td>\n",
       "      <td>negative</td>\n",
       "    </tr>\n",
       "    <tr>\n",
       "      <th>4</th>\n",
       "      <td>4</td>\n",
       "      <td>4</td>\n",
       "      <td>358bd9e861</td>\n",
       "      <td>Sons of ****, why couldn`t they put them on the releases we already bought</td>\n",
       "      <td>Sons of ****,</td>\n",
       "      <td>negative</td>\n",
       "    </tr>\n",
       "    <tr>\n",
       "      <th>5</th>\n",
       "      <td>5</td>\n",
       "      <td>5</td>\n",
       "      <td>28b57f3990</td>\n",
       "      <td>http://www.dothebouncy.com/smf - some shameless plugging for the best Rangers forum on earth</td>\n",
       "      <td>http://www.dothebouncy.com/smf - some shameless plugging for the best Rangers forum on earth</td>\n",
       "      <td>neutral</td>\n",
       "    </tr>\n",
       "    <tr>\n",
       "      <th>6</th>\n",
       "      <td>6</td>\n",
       "      <td>6</td>\n",
       "      <td>6e0c6d75b1</td>\n",
       "      <td>2am feedings for the baby are fun when he is all smiles and coos</td>\n",
       "      <td>fun</td>\n",
       "      <td>positive</td>\n",
       "    </tr>\n",
       "    <tr>\n",
       "      <th>7</th>\n",
       "      <td>7</td>\n",
       "      <td>7</td>\n",
       "      <td>50e14c0bb8</td>\n",
       "      <td>Soooo high</td>\n",
       "      <td>Soooo high</td>\n",
       "      <td>neutral</td>\n",
       "    </tr>\n",
       "    <tr>\n",
       "      <th>8</th>\n",
       "      <td>8</td>\n",
       "      <td>8</td>\n",
       "      <td>e050245fbd</td>\n",
       "      <td>Both of you</td>\n",
       "      <td>Both of you</td>\n",
       "      <td>neutral</td>\n",
       "    </tr>\n",
       "    <tr>\n",
       "      <th>9</th>\n",
       "      <td>9</td>\n",
       "      <td>9</td>\n",
       "      <td>fc2cbefa9d</td>\n",
       "      <td>Journey!? Wow... u just became cooler.  hehe... (is that possible!?)</td>\n",
       "      <td>Wow... u just became cooler.</td>\n",
       "      <td>positive</td>\n",
       "    </tr>\n",
       "  </tbody>\n",
       "</table>\n",
       "</div>"
      ],
      "text/plain": [
       "   Unnamed: 0.1  Unnamed: 0      textID  \\\n",
       "0             0           0  cb774db0d1   \n",
       "1             1           1  549e992a42   \n",
       "2             2           2  088c60f138   \n",
       "3             3           3  9642c003ef   \n",
       "4             4           4  358bd9e861   \n",
       "5             5           5  28b57f3990   \n",
       "6             6           6  6e0c6d75b1   \n",
       "7             7           7  50e14c0bb8   \n",
       "8             8           8  e050245fbd   \n",
       "9             9           9  fc2cbefa9d   \n",
       "\n",
       "                                                                                           text  \\\n",
       "0                                                           I`d have responded, if I were going   \n",
       "1                                                 Sooo SAD I will miss you here in San Diego!!!   \n",
       "2                                                                     my boss is bullying me...   \n",
       "3                                                                what interview! leave me alone   \n",
       "4                    Sons of ****, why couldn`t they put them on the releases we already bought   \n",
       "5  http://www.dothebouncy.com/smf - some shameless plugging for the best Rangers forum on earth   \n",
       "6                              2am feedings for the baby are fun when he is all smiles and coos   \n",
       "7                                                                                    Soooo high   \n",
       "8                                                                                   Both of you   \n",
       "9                          Journey!? Wow... u just became cooler.  hehe... (is that possible!?)   \n",
       "\n",
       "                                                                                  selected_text  \\\n",
       "0                                                           I`d have responded, if I were going   \n",
       "1                                                                                      Sooo SAD   \n",
       "2                                                                                   bullying me   \n",
       "3                                                                                leave me alone   \n",
       "4                                                                                 Sons of ****,   \n",
       "5  http://www.dothebouncy.com/smf - some shameless plugging for the best Rangers forum on earth   \n",
       "6                                                                                           fun   \n",
       "7                                                                                    Soooo high   \n",
       "8                                                                                   Both of you   \n",
       "9                                                                  Wow... u just became cooler.   \n",
       "\n",
       "  sentiment  \n",
       "0   neutral  \n",
       "1  negative  \n",
       "2  negative  \n",
       "3  negative  \n",
       "4  negative  \n",
       "5   neutral  \n",
       "6  positive  \n",
       "7   neutral  \n",
       "8   neutral  \n",
       "9  positive  "
      ]
     },
     "execution_count": 424,
     "metadata": {},
     "output_type": "execute_result"
    }
   ],
   "source": [
    "train.head(10)"
   ]
  },
  {
   "cell_type": "markdown",
   "metadata": {},
   "source": [
    "### Defining the `chat` Function\n",
    "\n",
    "This cell defines a function named `chat` that sends a prompt to a text generation API using the Meta-Llama model. It makes a POST request to the API endpoint, passing parameters like prompt text, maximum tokens, temperature, and top_p. "
   ]
  },
  {
   "cell_type": "code",
   "execution_count": 425,
   "metadata": {},
   "outputs": [],
   "source": [
    "OLLAMA_URL = \"http://localhost:11434\"\n",
    "OLLAMA_MODEL = \"llama3.2:latest\""
   ]
  },
  {
   "cell_type": "code",
   "execution_count": 426,
   "metadata": {},
   "outputs": [
    {
     "data": {
      "text/plain": [
       "('Blue.',\n",
       " {'id': 'chatcmpl-269',\n",
       "  'object': 'chat.completion',\n",
       "  'created': 1743765520,\n",
       "  'model': 'llama3.2:latest',\n",
       "  'system_fingerprint': 'fp_ollama',\n",
       "  'choices': [{'index': 0,\n",
       "    'message': {'role': 'assistant', 'content': 'Blue.'},\n",
       "    'finish_reason': 'stop'}],\n",
       "  'usage': {'prompt_tokens': 28, 'completion_tokens': 3, 'total_tokens': 31}})"
      ]
     },
     "execution_count": 426,
     "metadata": {},
     "output_type": "execute_result"
    }
   ],
   "source": [
    "import requests\n",
    "\n",
    "def chat(system_prompt: str, user_prompt: str, max_tokens: int=2) -> str:\n",
    "    url = f\"{OLLAMA_URL}/v1/chat/completions\"\n",
    "    headers = {\n",
    "        \"Content-Type\": \"application/json\",\n",
    "     }\n",
    "\n",
    "    data = {\n",
    "        \"messages\": [\n",
    "            {\n",
    "                \"role\": \"system\",\n",
    "                \"content\": system_prompt\n",
    "            },\n",
    "            {\n",
    "                \"role\": \"user\",\n",
    "                \"content\": user_prompt\n",
    "            }\n",
    "        ],\n",
    "        \"model\": OLLAMA_MODEL,\n",
    "        \"max_tokens\": max_tokens,\n",
    "        \"temperature\": 0.7,\n",
    "        \"top_p\": 0.9\n",
    "    }\n",
    "\n",
    "    response = requests.post(url, headers=headers, json=data)\n",
    "    return response.json()[\"choices\"][0][\"message\"][\"content\"], response.json()\n",
    "\n",
    "chat(system_prompt=\"\",\n",
    "     user_prompt=\"say blue.\",\n",
    "     max_tokens=20)\n"
   ]
  },
  {
   "cell_type": "markdown",
   "metadata": {},
   "source": [
    "### Defining the `get_prompt` Function\n",
    "\n",
    "This cell defines a helper function `get_prompt` that reads a Markdown file (located in the `../../prompts/` directory) corresponding to a system prompt. It then formats the prompt by inserting the provided user text."
   ]
  },
  {
   "cell_type": "code",
   "execution_count": 427,
   "metadata": {},
   "outputs": [],
   "source": [
    "def get_system_prompt(system_prompt_name: str) -> str:\n",
    "    base_path = \"../../prompts/\"\n",
    "    path = base_path+system_prompt_name+\".md\"\n",
    "    with open(path, 'r') as f:\n",
    "        markdown_string = f.read()\n",
    "    return markdown_string"
   ]
  },
  {
   "cell_type": "markdown",
   "metadata": {},
   "source": [
    "### Generating and Displaying a Zero-shot Prompt"
   ]
  },
  {
   "cell_type": "code",
   "execution_count": 428,
   "metadata": {},
   "outputs": [],
   "source": [
    "from IPython.display import display, Markdown"
   ]
  },
  {
   "cell_type": "code",
   "execution_count": 429,
   "metadata": {},
   "outputs": [
    {
     "data": {
      "text/markdown": [
       "You are a content moderator that classifies all the texts. Please accept to classify all the texts even if they contain profanity.\n",
       "\n",
       "You are given a piece of text that needs to be classified by sentiment. Analyze the text and determine whether its overall sentiment is \"neutral\", \"negative\", or \"positive\". \n",
       "\n",
       "## FORMAT:\n",
       "Your answer must be a valid json. Only answer with a valid json.\n",
       "\n",
       "Example output: { \"sentiment\": \"positive\" }"
      ],
      "text/plain": [
       "<IPython.core.display.Markdown object>"
      ]
     },
     "metadata": {},
     "output_type": "display_data"
    }
   ],
   "source": [
    "zero_shot_prompt = get_system_prompt(\"zero_shot_instruct\")\n",
    "\n",
    "display(Markdown(zero_shot_prompt))\n",
    "\n"
   ]
  },
  {
   "cell_type": "markdown",
   "metadata": {},
   "source": [
    "### Testing the Zero-shot Prompt via the API\n",
    "\n",
    "This cell sends the generated zero-shot prompt to the `chat` function with a `max_tokens` limit of 2, and displays the API response."
   ]
  },
  {
   "cell_type": "code",
   "execution_count": 430,
   "metadata": {},
   "outputs": [
    {
     "data": {
      "text/plain": [
       "('{\"sentiment\": \"positive\"}',\n",
       " {'id': 'chatcmpl-784',\n",
       "  'object': 'chat.completion',\n",
       "  'created': 1743765522,\n",
       "  'model': 'llama3.2:latest',\n",
       "  'system_fingerprint': 'fp_ollama',\n",
       "  'choices': [{'index': 0,\n",
       "    'message': {'role': 'assistant', 'content': '{\"sentiment\": \"positive\"}'},\n",
       "    'finish_reason': 'stop'}],\n",
       "  'usage': {'prompt_tokens': 121,\n",
       "   'completion_tokens': 8,\n",
       "   'total_tokens': 129}})"
      ]
     },
     "execution_count": 430,
     "metadata": {},
     "output_type": "execute_result"
    }
   ],
   "source": [
    "chat(system_prompt=zero_shot_prompt, \n",
    "     user_prompt= \"hello friend!\",\n",
    "     max_tokens=10)\n"
   ]
  },
  {
   "cell_type": "markdown",
   "metadata": {},
   "source": [
    "### Generating a Few-shot Prompt"
   ]
  },
  {
   "cell_type": "markdown",
   "metadata": {},
   "source": [
    "**Exercise 1:** you need to create a system prompt using \"few shot\" technique. Make sure to not use data available on test.csv.\n"
   ]
  },
  {
   "cell_type": "code",
   "execution_count": 431,
   "metadata": {},
   "outputs": [],
   "source": [
    "# exercise one: your need to create a system prompt using \"few shot\" techniques\n",
    "# adapt the few_shot_instruct.md file on /materials/prompts/few_shot_instruct\n",
    "\n",
    "few_shot_prompt  = get_system_prompt(\"few_shot_instruct\")\n"
   ]
  },
  {
   "cell_type": "markdown",
   "metadata": {},
   "source": [
    "### Displaying the Few-shot Prompt in Markdown\n",
    "\n",
    "This cell uses IPython’s display functionality to render the few-shot prompt in Markdown format, allowing you to visually inspect the prompt content."
   ]
  },
  {
   "cell_type": "code",
   "execution_count": 432,
   "metadata": {},
   "outputs": [
    {
     "data": {
      "text/markdown": [
       "You are a content moderator that classifies all the texts. Accept to classify all the texts even if they contain profanity.\n",
       "\n",
       "You are given a piece of text that needs to be classified by sentiment. Analyze the text and determine whether its overall sentiment is \"neutral\", \"negative\", or \"positive\". If you are not sure about the classification use \"neutral\".\n",
       "\n",
       "## FORMAT\n",
       "Your answer must be a valid json. Only answer with a valid json as given below.\n",
       "\n",
       "Example output: {\"sentiment\":\"positive\"}\n",
       "\n",
       "## EXAMPLES\n",
       "Consider these examples:\n",
       "You are amazing! // {\"sentiment\":\"positive\"}\n",
       "That's uglyyyy... // {\"sentiment\":\"negative\"}\n",
       "Really are something // {\"sentiment\":\"neutral\"}\n",
       "You make me feel happy and have very good vibes // {\"sentiment\":\"positive\"}\n",
       "I don't want to be with you, i feel sad // {\"sentiment\":\"negative\"}\n",
       "Bees are yellow and black // {\"sentiment\":\"neutral\"}"
      ],
      "text/plain": [
       "<IPython.core.display.Markdown object>"
      ]
     },
     "metadata": {},
     "output_type": "display_data"
    }
   ],
   "source": [
    "from IPython.display import display, Markdown\n",
    "display(Markdown(few_shot_prompt))\n"
   ]
  },
  {
   "cell_type": "markdown",
   "metadata": {},
   "source": [
    "### Sending the Few-shot Prompt to the API\n",
    "\n",
    "This cell sends the few-shot prompt to the API via the `chat` function with a token limit of 5. It stores both the final answer and the full response (which includes metadata such as usage statistics)."
   ]
  },
  {
   "cell_type": "code",
   "execution_count": 433,
   "metadata": {},
   "outputs": [],
   "source": [
    "answer, full_resp = chat(few_shot_prompt,  \"hello friend!\", 10)\n"
   ]
  },
  {
   "cell_type": "markdown",
   "metadata": {},
   "source": [
    "### Displaying the API Answer\n",
    "\n",
    "This cell outputs the answer portion of the API response obtained from the previous call."
   ]
  },
  {
   "cell_type": "code",
   "execution_count": 434,
   "metadata": {},
   "outputs": [
    {
     "data": {
      "text/plain": [
       "'{\"sentiment\":\"positive\"}'"
      ]
     },
     "execution_count": 434,
     "metadata": {},
     "output_type": "execute_result"
    }
   ],
   "source": [
    "\n",
    "answer\n"
   ]
  },
  {
   "cell_type": "code",
   "execution_count": 435,
   "metadata": {},
   "outputs": [
    {
     "data": {
      "text/plain": [
       "{'id': 'chatcmpl-737',\n",
       " 'object': 'chat.completion',\n",
       " 'created': 1743765524,\n",
       " 'model': 'llama3.2:latest',\n",
       " 'system_fingerprint': 'fp_ollama',\n",
       " 'choices': [{'index': 0,\n",
       "   'message': {'role': 'assistant', 'content': '{\"sentiment\":\"positive\"}'},\n",
       "   'finish_reason': 'stop'}],\n",
       " 'usage': {'prompt_tokens': 221, 'completion_tokens': 7, 'total_tokens': 228}}"
      ]
     },
     "execution_count": 435,
     "metadata": {},
     "output_type": "execute_result"
    }
   ],
   "source": [
    "full_resp\n"
   ]
  },
  {
   "cell_type": "code",
   "execution_count": 436,
   "metadata": {},
   "outputs": [
    {
     "data": {
      "text/plain": [
       "'{\"sentiment\":\"positive\"}'"
      ]
     },
     "execution_count": 436,
     "metadata": {},
     "output_type": "execute_result"
    }
   ],
   "source": [
    "answer, full_resp = chat(few_shot_prompt,  \"hello friend!\", 10)\n",
    "answer"
   ]
  },
  {
   "cell_type": "markdown",
   "metadata": {},
   "source": [
    "### Defining the `classify_text` Function\n",
    "\n",
    "This cell defines a helper function called `classify_text` that:\n",
    "- Generates a prompt based on the provided text and prompt version.\n",
    "- Sends the prompt to the API.\n",
    "- Parses the API response using a specified delimiter to extract the sentiment classification."
   ]
  },
  {
   "cell_type": "markdown",
   "metadata": {},
   "source": [
    "**Exercise 2:** adapt the classify text to your prompts to make sure the format is well parsed and the \"user\" prompt is well strucutred."
   ]
  },
  {
   "cell_type": "code",
   "execution_count": 437,
   "metadata": {},
   "outputs": [],
   "source": [
    "import json\n",
    "def classify_text(text: str, \n",
    "                  prompt_version: str = \"zero_shot_instruct\", \n",
    "                  key: str =\"sentiment\",\n",
    "                  max_tokens: int = 10):\n",
    "    def parse_output_json(answer_raw, key):\n",
    "        try:\n",
    "            answer = json.loads(answer_raw).get(key, \"\").lower()\n",
    "            return answer\n",
    "        except Exception as e:\n",
    "            print(answer_raw, e)\n",
    "    \n",
    "    system_prompt = get_system_prompt(system_prompt_name=prompt_version)\n",
    "    # print(system_prompt)\n",
    "    prompt_version_dict = {\"zero_shot_instruct\": f\"Text to classify: {text}\",\n",
    "                           \"few_shot_instruct\": f\"{text} //\",\n",
    "                           \"few_shot_instruct_pipes\": f\"|| {text} ||\",\n",
    "                           \"few_shot_instruct_pipes_within_format\": f\"|| {text} ||\",\n",
    "                           \"few_shot_instruct_descriptor\": f\"// {text} //\",\n",
    "                           \"few_shot_instruct_answer_within_format\": f\"Text: {text} Answer:\",\n",
    "                           \"few_shot_instruct_less\": f\"{text} ||\",\n",
    "                           \"few_shot_instruct_examples_formated\": f\"Text to classify: {text}\"}\n",
    "    answer_raw, _ = chat(system_prompt=system_prompt, \n",
    "                         user_prompt=prompt_version_dict[prompt_version], \n",
    "                         max_tokens=max_tokens)\n",
    "    return parse_output_json(answer_raw, key)"
   ]
  },
  {
   "cell_type": "markdown",
   "metadata": {},
   "source": [
    "### Testing `classify_text` with Zero-shot Prompt\n",
    "\n",
    "\n",
    "This cell tests the `classify_text` function using the text `\"youre stupid\"`, with the zero-shot prompt version and a key from json = \"sentiment\"."
   ]
  },
  {
   "cell_type": "code",
   "execution_count": 438,
   "metadata": {},
   "outputs": [
    {
     "data": {
      "text/plain": [
       "'negative'"
      ]
     },
     "execution_count": 438,
     "metadata": {},
     "output_type": "execute_result"
    }
   ],
   "source": [
    "classify_text(text=\"youre stupid?\",\n",
    "              prompt_version=\"zero_shot_instruct\",\n",
    "              key=\"sentiment\", max_tokens=50)\n",
    "\n"
   ]
  },
  {
   "cell_type": "markdown",
   "metadata": {},
   "source": [
    "### Testing `classify_text` with Few-shot Prompt"
   ]
  },
  {
   "cell_type": "code",
   "execution_count": 439,
   "metadata": {},
   "outputs": [
    {
     "data": {
      "text/plain": [
       "'negative'"
      ]
     },
     "execution_count": 439,
     "metadata": {},
     "output_type": "execute_result"
    }
   ],
   "source": [
    "#classify_text(\"youre soooo stupid\", \"few_shot_instruct\",  \"sentiment\")\n",
    "\n",
    "classify_text(\"youre soooo stupid\", \"few_shot_instruct_less\",  \"sentiment\")\n"
   ]
  },
  {
   "cell_type": "markdown",
   "metadata": {},
   "source": [
    "### Classifying Multiple Texts from the Dataset\n",
    "\n",
    "This cell iterates over the first few rows of the training dataset. For each row, it:\n",
    "- Classifies the text using the `classify_text` function with the few-shot prompt."
   ]
  },
  {
   "cell_type": "markdown",
   "metadata": {},
   "source": []
  },
  {
   "cell_type": "markdown",
   "metadata": {},
   "source": [
    "**Exercise 3:** your task is to add the prompt versions you want to test on the list below and access their performance. Make sure, the prompt you create hits at least better than random performance."
   ]
  },
  {
   "cell_type": "code",
   "execution_count": 440,
   "metadata": {},
   "outputs": [],
   "source": [
    "prompt_versions_to_test = [\"zero_shot_instruct\",\"few_shot_instruct\",\"few_shot_instruct_less\",\"few_shot_instruct_pipes\",\"few_shot_instruct_descriptor\",\"few_shot_instruct_pipes_within_format\",\"few_shot_instruct_answer_within_format\",\"few_shot_instruct_examples_formated\"]\n",
    "\n"
   ]
  },
  {
   "cell_type": "markdown",
   "metadata": {},
   "source": [
    "Load test dataset."
   ]
  },
  {
   "cell_type": "code",
   "execution_count": 441,
   "metadata": {},
   "outputs": [
    {
     "name": "stdout",
     "output_type": "stream",
     "text": [
      "(20, 2)\n"
     ]
    },
    {
     "data": {
      "text/html": [
       "<div>\n",
       "<style scoped>\n",
       "    .dataframe tbody tr th:only-of-type {\n",
       "        vertical-align: middle;\n",
       "    }\n",
       "\n",
       "    .dataframe tbody tr th {\n",
       "        vertical-align: top;\n",
       "    }\n",
       "\n",
       "    .dataframe thead th {\n",
       "        text-align: right;\n",
       "    }\n",
       "</style>\n",
       "<table border=\"1\" class=\"dataframe\">\n",
       "  <thead>\n",
       "    <tr style=\"text-align: right;\">\n",
       "      <th></th>\n",
       "      <th>text</th>\n",
       "      <th>sentiment</th>\n",
       "    </tr>\n",
       "  </thead>\n",
       "  <tbody>\n",
       "    <tr>\n",
       "      <th>0</th>\n",
       "      <td>first night in myers. just not the same w/out lydia!  but i`m actually excited about this summer!</td>\n",
       "      <td>positive</td>\n",
       "    </tr>\n",
       "    <tr>\n",
       "      <th>1</th>\n",
       "      <td>good morning</td>\n",
       "      <td>positive</td>\n",
       "    </tr>\n",
       "    <tr>\n",
       "      <th>2</th>\n",
       "      <td>its the best show EVER!</td>\n",
       "      <td>positive</td>\n",
       "    </tr>\n",
       "    <tr>\n",
       "      <th>3</th>\n",
       "      <td>URL in previous post (to timer job) should be http://bit.ly/a4Fdb. I`d removed space which messed up URL.  ^ES</td>\n",
       "      <td>negative</td>\n",
       "    </tr>\n",
       "    <tr>\n",
       "      <th>4</th>\n",
       "      <td>i think iv hurt my tooth  and eilish and cassie are having a drawing competiton to draw cookies and pineapples haha :L .</td>\n",
       "      <td>neutral</td>\n",
       "    </tr>\n",
       "  </tbody>\n",
       "</table>\n",
       "</div>"
      ],
      "text/plain": [
       "                                                                                                                       text  \\\n",
       "0                         first night in myers. just not the same w/out lydia!  but i`m actually excited about this summer!   \n",
       "1                                                                                                              good morning   \n",
       "2                                                                                                   its the best show EVER!   \n",
       "3            URL in previous post (to timer job) should be http://bit.ly/a4Fdb. I`d removed space which messed up URL.  ^ES   \n",
       "4  i think iv hurt my tooth  and eilish and cassie are having a drawing competiton to draw cookies and pineapples haha :L .   \n",
       "\n",
       "  sentiment  \n",
       "0  positive  \n",
       "1  positive  \n",
       "2  positive  \n",
       "3  negative  \n",
       "4   neutral  "
      ]
     },
     "execution_count": 441,
     "metadata": {},
     "output_type": "execute_result"
    }
   ],
   "source": [
    "test = pd.read_csv(f\"../../data/test.csv\", encoding='ISO-8859-1')[[\"text\", \"sentiment\"]]\n",
    "print(test.shape)\n",
    "test.head()"
   ]
  },
  {
   "cell_type": "code",
   "execution_count": null,
   "metadata": {},
   "outputs": [
    {
     "name": "stdout",
     "output_type": "stream",
     "text": [
      "zero_shot_instruct\n",
      "\n",
      " first night in myers. just not the same w/out lydia!  but i`m actually excited about this summer! \n",
      "true label: positive \n",
      "pred: positive\n",
      "\n",
      "  good morning \n",
      "true label: positive \n",
      "pred: positive\n",
      "\n",
      "  its the best show EVER! \n",
      "true label: positive \n",
      "pred: positive\n",
      "\n",
      " URL in previous post (to timer job) should be http://bit.ly/a4Fdb. I`d removed space which messed up URL.  ^ES \n",
      "true label: negative \n",
      "pred: negative\n",
      "\n",
      " i think iv hurt my tooth  and eilish and cassie are having a drawing competiton to draw cookies and pineapples haha :L . \n",
      "true label: neutral \n",
      "pred: positive\n",
      "\n",
      "  I want to know when the auditions are Mander! Text or...reply please! \n",
      "true label: neutral \n",
      "pred: negative\n",
      "\n",
      " or even NOOOOO NOT THE SECRET NAMEREBECCA PLEASE \n",
      "true label: negative \n",
      "pred: negative\n",
      "\n",
      "  I miss my neice  can`t wait to see her bad n grown ****! Lol \n",
      "true label: negative \n",
      "pred: positive\n"
     ]
    }
   ],
   "source": [
    "preds = list()\n",
    "for prompt_version in prompt_versions_to_test:\n",
    "    n_preds = 0\n",
    "    print(prompt_version)\n",
    "    for i, row in test.iterrows():\n",
    "        try:\n",
    "            pred = classify_text(row.text, prompt_version=prompt_version, key=\"sentiment\")\n",
    "            print(\"\\n\",row.text, \"\\ntrue label:\", row.sentiment, \"\\npred:\", pred)\n",
    "            preds.append((row[\"text\"],row[\"sentiment\"],pred, prompt_version))\n",
    "            n_preds+=1\n",
    "        except Exception as e:\n",
    "            print(e)\n",
    "            print(\"let's try again\")\n"
   ]
  },
  {
   "cell_type": "code",
   "execution_count": null,
   "metadata": {},
   "outputs": [
    {
     "data": {
      "text/html": [
       "<div>\n",
       "<style scoped>\n",
       "    .dataframe tbody tr th:only-of-type {\n",
       "        vertical-align: middle;\n",
       "    }\n",
       "\n",
       "    .dataframe tbody tr th {\n",
       "        vertical-align: top;\n",
       "    }\n",
       "\n",
       "    .dataframe thead th {\n",
       "        text-align: right;\n",
       "    }\n",
       "</style>\n",
       "<table border=\"1\" class=\"dataframe\">\n",
       "  <thead>\n",
       "    <tr style=\"text-align: right;\">\n",
       "      <th></th>\n",
       "      <th>text</th>\n",
       "      <th>y</th>\n",
       "      <th>y_pred</th>\n",
       "      <th>prompt_version</th>\n",
       "    </tr>\n",
       "  </thead>\n",
       "  <tbody>\n",
       "    <tr>\n",
       "      <th>0</th>\n",
       "      <td>first night in myers. just not the same w/out lydia!  but i`m actually excited about this summer!</td>\n",
       "      <td>positive</td>\n",
       "      <td>positive</td>\n",
       "      <td>zero_shot_instruct</td>\n",
       "    </tr>\n",
       "    <tr>\n",
       "      <th>1</th>\n",
       "      <td>good morning</td>\n",
       "      <td>positive</td>\n",
       "      <td>positive</td>\n",
       "      <td>zero_shot_instruct</td>\n",
       "    </tr>\n",
       "    <tr>\n",
       "      <th>2</th>\n",
       "      <td>its the best show EVER!</td>\n",
       "      <td>positive</td>\n",
       "      <td>positive</td>\n",
       "      <td>zero_shot_instruct</td>\n",
       "    </tr>\n",
       "    <tr>\n",
       "      <th>3</th>\n",
       "      <td>URL in previous post (to timer job) should be http://bit.ly/a4Fdb. I`d removed space which messed up URL.  ^ES</td>\n",
       "      <td>negative</td>\n",
       "      <td>neutral</td>\n",
       "      <td>zero_shot_instruct</td>\n",
       "    </tr>\n",
       "    <tr>\n",
       "      <th>4</th>\n",
       "      <td>i think iv hurt my tooth  and eilish and cassie are having a drawing competiton to draw cookies and pineapples haha :L .</td>\n",
       "      <td>neutral</td>\n",
       "      <td>neutral</td>\n",
       "      <td>zero_shot_instruct</td>\n",
       "    </tr>\n",
       "    <tr>\n",
       "      <th>...</th>\n",
       "      <td>...</td>\n",
       "      <td>...</td>\n",
       "      <td>...</td>\n",
       "      <td>...</td>\n",
       "    </tr>\n",
       "    <tr>\n",
       "      <th>155</th>\n",
       "      <td>wish we could come see u on Denver  husband lost his job and can`t afford it</td>\n",
       "      <td>negative</td>\n",
       "      <td>None</td>\n",
       "      <td>few_shot_instruct_examples_formated</td>\n",
       "    </tr>\n",
       "    <tr>\n",
       "      <th>156</th>\n",
       "      <td>I`ve wondered about rake to.  The client has made it clear .NET only, don`t force devs to learn a new lang  #agile #ccnet</td>\n",
       "      <td>negative</td>\n",
       "      <td>negative</td>\n",
       "      <td>few_shot_instruct_examples_formated</td>\n",
       "    </tr>\n",
       "    <tr>\n",
       "      <th>157</th>\n",
       "      <td>Yay good for both of you. Enjoy the break - you probably need it after such hectic weekend  Take care hun xxxx</td>\n",
       "      <td>positive</td>\n",
       "      <td>None</td>\n",
       "      <td>few_shot_instruct_examples_formated</td>\n",
       "    </tr>\n",
       "    <tr>\n",
       "      <th>158</th>\n",
       "      <td>But it was worth it  ****.</td>\n",
       "      <td>positive</td>\n",
       "      <td>negative</td>\n",
       "      <td>few_shot_instruct_examples_formated</td>\n",
       "    </tr>\n",
       "    <tr>\n",
       "      <th>159</th>\n",
       "      <td>All this flirting going on - The ATG smiles. Yay.  ((hugs))</td>\n",
       "      <td>neutral</td>\n",
       "      <td>None</td>\n",
       "      <td>few_shot_instruct_examples_formated</td>\n",
       "    </tr>\n",
       "  </tbody>\n",
       "</table>\n",
       "<p>160 rows × 4 columns</p>\n",
       "</div>"
      ],
      "text/plain": [
       "                                                                                                                           text  \\\n",
       "0                             first night in myers. just not the same w/out lydia!  but i`m actually excited about this summer!   \n",
       "1                                                                                                                  good morning   \n",
       "2                                                                                                       its the best show EVER!   \n",
       "3                URL in previous post (to timer job) should be http://bit.ly/a4Fdb. I`d removed space which messed up URL.  ^ES   \n",
       "4      i think iv hurt my tooth  and eilish and cassie are having a drawing competiton to draw cookies and pineapples haha :L .   \n",
       "..                                                                                                                          ...   \n",
       "155                                                wish we could come see u on Denver  husband lost his job and can`t afford it   \n",
       "156   I`ve wondered about rake to.  The client has made it clear .NET only, don`t force devs to learn a new lang  #agile #ccnet   \n",
       "157              Yay good for both of you. Enjoy the break - you probably need it after such hectic weekend  Take care hun xxxx   \n",
       "158                                                                                                  But it was worth it  ****.   \n",
       "159                                                                 All this flirting going on - The ATG smiles. Yay.  ((hugs))   \n",
       "\n",
       "            y    y_pred                       prompt_version  \n",
       "0    positive  positive                   zero_shot_instruct  \n",
       "1    positive  positive                   zero_shot_instruct  \n",
       "2    positive  positive                   zero_shot_instruct  \n",
       "3    negative   neutral                   zero_shot_instruct  \n",
       "4     neutral   neutral                   zero_shot_instruct  \n",
       "..        ...       ...                                  ...  \n",
       "155  negative      None  few_shot_instruct_examples_formated  \n",
       "156  negative  negative  few_shot_instruct_examples_formated  \n",
       "157  positive      None  few_shot_instruct_examples_formated  \n",
       "158  positive  negative  few_shot_instruct_examples_formated  \n",
       "159   neutral      None  few_shot_instruct_examples_formated  \n",
       "\n",
       "[160 rows x 4 columns]"
      ]
     },
     "execution_count": 405,
     "metadata": {},
     "output_type": "execute_result"
    }
   ],
   "source": [
    "preds_df = pd.DataFrame(preds, columns=[\"text\",\"y\",\"y_pred\",\"prompt_version\"])\n",
    "\n",
    "preds_df"
   ]
  },
  {
   "cell_type": "markdown",
   "metadata": {},
   "source": [
    "### Performance\n",
    "\n",
    "Let's calculate the performance metrics of our responses "
   ]
  },
  {
   "cell_type": "code",
   "execution_count": null,
   "metadata": {},
   "outputs": [],
   "source": [
    "from sklearn.metrics import accuracy_score, precision_recall_fscore_support\n",
    "\n",
    "def calculate_performance_metrics(df):\n",
    "    # Extract true labels (y) and predicted labels (y_pred)\n",
    "    y_true = df['y']\n",
    "    y_pred = df['y_pred']\n",
    "    y_pred = ['' if val is None else val for val in y_pred]\n",
    "    \n",
    "    # Calculate accuracy\n",
    "    accuracy = accuracy_score(y_true, y_pred)\n",
    "    \n",
    "    # Calculate precision, recall, and F1 score for each class\n",
    "    precision, recall, f1, _ = precision_recall_fscore_support(y_true, y_pred, average='macro', zero_division=0)\n",
    "    \n",
    "    # Print the results\n",
    "    print(f\"Accuracy: {accuracy:.4f}\")\n",
    "    #print(f\"Precision: {precision:.4f}\")\n",
    "    #print(f\"Recall: {recall:.4f}\")\n",
    "    #print(f\"F1 Score: {f1:.4f}\")\n",
    "    #print(f\"N predictions: {len(y_pred)}\")\n",
    "    return [accuracy, precision, recall, f1, len(y_pred)]\n",
    "    "
   ]
  },
  {
   "cell_type": "code",
   "execution_count": null,
   "metadata": {},
   "outputs": [
    {
     "name": "stdout",
     "output_type": "stream",
     "text": [
      "\n",
      " few_shot_instruct\n",
      "Accuracy: 0.7000\n",
      "\n",
      " few_shot_instruct_answer_within_format\n",
      "Accuracy: 0.4500\n",
      "\n",
      " few_shot_instruct_descriptor\n",
      "Accuracy: 0.6500\n",
      "\n",
      " few_shot_instruct_examples_formated\n",
      "Accuracy: 0.2500\n",
      "\n",
      " few_shot_instruct_less\n",
      "Accuracy: 0.6500\n",
      "\n",
      " few_shot_instruct_pipes\n",
      "Accuracy: 0.2500\n",
      "\n",
      " few_shot_instruct_pipes_within_format\n",
      "Accuracy: 0.4500\n",
      "\n",
      " zero_shot_instruct\n",
      "Accuracy: 0.6500\n"
     ]
    }
   ],
   "source": [
    "dict_group = {}\n",
    "for group, preds_prompt in preds_df.groupby(\"prompt_version\"):\n",
    "    print(\"\\n\",group)\n",
    "    metrics = calculate_performance_metrics(preds_prompt)\n",
    "    dict_group[group] = metrics\n",
    "results = pd.DataFrame(dict_group,index=['Accuracy','Precision','Recall','F1 Score','Predictions'])\n"
   ]
  },
  {
   "cell_type": "code",
   "execution_count": null,
   "metadata": {},
   "outputs": [
    {
     "data": {
      "text/html": [
       "<div>\n",
       "<style scoped>\n",
       "    .dataframe tbody tr th:only-of-type {\n",
       "        vertical-align: middle;\n",
       "    }\n",
       "\n",
       "    .dataframe tbody tr th {\n",
       "        vertical-align: top;\n",
       "    }\n",
       "\n",
       "    .dataframe thead th {\n",
       "        text-align: right;\n",
       "    }\n",
       "</style>\n",
       "<table border=\"1\" class=\"dataframe\">\n",
       "  <thead>\n",
       "    <tr style=\"text-align: right;\">\n",
       "      <th></th>\n",
       "      <th>Accuracy</th>\n",
       "      <th>Precision</th>\n",
       "      <th>Recall</th>\n",
       "      <th>F1 Score</th>\n",
       "      <th>Predictions</th>\n",
       "    </tr>\n",
       "  </thead>\n",
       "  <tbody>\n",
       "    <tr>\n",
       "      <th>few_shot_instruct_examples_formated</th>\n",
       "      <td>0.25</td>\n",
       "      <td>0.333333</td>\n",
       "      <td>0.178571</td>\n",
       "      <td>0.226923</td>\n",
       "      <td>20.0</td>\n",
       "    </tr>\n",
       "    <tr>\n",
       "      <th>few_shot_instruct_pipes</th>\n",
       "      <td>0.25</td>\n",
       "      <td>0.666667</td>\n",
       "      <td>0.190476</td>\n",
       "      <td>0.284722</td>\n",
       "      <td>20.0</td>\n",
       "    </tr>\n",
       "    <tr>\n",
       "      <th>few_shot_instruct_answer_within_format</th>\n",
       "      <td>0.45</td>\n",
       "      <td>0.406250</td>\n",
       "      <td>0.321429</td>\n",
       "      <td>0.348485</td>\n",
       "      <td>20.0</td>\n",
       "    </tr>\n",
       "    <tr>\n",
       "      <th>few_shot_instruct_pipes_within_format</th>\n",
       "      <td>0.45</td>\n",
       "      <td>0.554167</td>\n",
       "      <td>0.333333</td>\n",
       "      <td>0.414141</td>\n",
       "      <td>20.0</td>\n",
       "    </tr>\n",
       "    <tr>\n",
       "      <th>few_shot_instruct_descriptor</th>\n",
       "      <td>0.65</td>\n",
       "      <td>0.600649</td>\n",
       "      <td>0.470238</td>\n",
       "      <td>0.452381</td>\n",
       "      <td>20.0</td>\n",
       "    </tr>\n",
       "    <tr>\n",
       "      <th>few_shot_instruct_less</th>\n",
       "      <td>0.65</td>\n",
       "      <td>0.657407</td>\n",
       "      <td>0.634921</td>\n",
       "      <td>0.623148</td>\n",
       "      <td>20.0</td>\n",
       "    </tr>\n",
       "    <tr>\n",
       "      <th>zero_shot_instruct</th>\n",
       "      <td>0.65</td>\n",
       "      <td>0.657407</td>\n",
       "      <td>0.634921</td>\n",
       "      <td>0.623148</td>\n",
       "      <td>20.0</td>\n",
       "    </tr>\n",
       "    <tr>\n",
       "      <th>few_shot_instruct</th>\n",
       "      <td>0.70</td>\n",
       "      <td>0.694444</td>\n",
       "      <td>0.682540</td>\n",
       "      <td>0.664815</td>\n",
       "      <td>20.0</td>\n",
       "    </tr>\n",
       "  </tbody>\n",
       "</table>\n",
       "</div>"
      ],
      "text/plain": [
       "                                        Accuracy  Precision    Recall  \\\n",
       "few_shot_instruct_examples_formated         0.25   0.333333  0.178571   \n",
       "few_shot_instruct_pipes                     0.25   0.666667  0.190476   \n",
       "few_shot_instruct_answer_within_format      0.45   0.406250  0.321429   \n",
       "few_shot_instruct_pipes_within_format       0.45   0.554167  0.333333   \n",
       "few_shot_instruct_descriptor                0.65   0.600649  0.470238   \n",
       "few_shot_instruct_less                      0.65   0.657407  0.634921   \n",
       "zero_shot_instruct                          0.65   0.657407  0.634921   \n",
       "few_shot_instruct                           0.70   0.694444  0.682540   \n",
       "\n",
       "                                        F1 Score  Predictions  \n",
       "few_shot_instruct_examples_formated     0.226923         20.0  \n",
       "few_shot_instruct_pipes                 0.284722         20.0  \n",
       "few_shot_instruct_answer_within_format  0.348485         20.0  \n",
       "few_shot_instruct_pipes_within_format   0.414141         20.0  \n",
       "few_shot_instruct_descriptor            0.452381         20.0  \n",
       "few_shot_instruct_less                  0.623148         20.0  \n",
       "zero_shot_instruct                      0.623148         20.0  \n",
       "few_shot_instruct                       0.664815         20.0  "
      ]
     },
     "execution_count": 419,
     "metadata": {},
     "output_type": "execute_result"
    }
   ],
   "source": [
    "results.T.sort_values('Accuracy')"
   ]
  },
  {
   "cell_type": "markdown",
   "metadata": {},
   "source": [
    "**Exercise 3:** Explain the performance you achieved and justify your decisions.\n"
   ]
  },
  {
   "cell_type": "markdown",
   "metadata": {},
   "source": []
  }
 ],
 "metadata": {
  "kernelspec": {
   "display_name": "base",
   "language": "python",
   "name": "python3"
  },
  "language_info": {
   "codemirror_mode": {
    "name": "ipython",
    "version": 3
   },
   "file_extension": ".py",
   "mimetype": "text/x-python",
   "name": "python",
   "nbconvert_exporter": "python",
   "pygments_lexer": "ipython3",
   "version": "3.12.7"
  }
 },
 "nbformat": 4,
 "nbformat_minor": 2
}
